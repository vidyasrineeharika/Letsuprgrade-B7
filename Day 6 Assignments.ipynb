{
 "cells": [
  {
   "cell_type": "markdown",
   "metadata": {},
   "source": [
    "### Bank account"
   ]
  },
  {
   "cell_type": "code",
   "execution_count": 32,
   "metadata": {},
   "outputs": [],
   "source": [
    "class bank():\n",
    "    def __init__(self,ownerName,balance):\n",
    "        self.ownerName=ownerName\n",
    "        self.balance=balance\n",
    "        print(\"owner\",self.ownerName)\n",
    "        print(\"original balance\",self.balance)\n",
    "    def deposit(self,a):\n",
    "        self.balance=self.balance+a\n",
    "        print(\"Amount deposited\",a)\n",
    "    def withdraw(self,b):\n",
    "        if b<self.balance:\n",
    "            self.balance=self.balance-b\n",
    "            print(\"Withdrawn amount\",b)\n",
    "        else:\n",
    "            print(\" Balance limit exceeded\")\n",
    "        print(\"Balance\",self.balance)"
   ]
  },
  {
   "cell_type": "code",
   "execution_count": 33,
   "metadata": {},
   "outputs": [
    {
     "name": "stdout",
     "output_type": "stream",
     "text": [
      "owner neeha\n",
      "original balance 10000\n",
      "Amount deposited 500\n",
      "Withdrawn amount 600\n",
      "Balance 9900\n"
     ]
    }
   ],
   "source": [
    "acc=bank(\"neeha\",10000)\n",
    "acc.deposit(500)\n",
    "acc.withdraw(600)\n"
   ]
  },
  {
   "cell_type": "code",
   "execution_count": 27,
   "metadata": {},
   "outputs": [],
   "source": [
    "from math import pi,sqrt\n",
    "class cone:\n",
    "    def __init__(self,r,h):\n",
    "        self.radius=r\n",
    "        self.height=h\n",
    "        print(\"radius\",r)\n",
    "        print(\"height\",h)\n",
    "    def vol(self):\n",
    "        return pi*(r**2)*(h/3)\n",
    "    def area(self):\n",
    "        return (pi*(r**2),pi*(r)*sqrt(r**2+h**2))"
   ]
  },
  {
   "cell_type": "code",
   "execution_count": 28,
   "metadata": {},
   "outputs": [
    {
     "name": "stdout",
     "output_type": "stream",
     "text": [
      "radius 4\n",
      "height 3\n",
      "volume 50.26548245743669\n",
      "base area,side area (50.26548245743669, 62.83185307179586)\n"
     ]
    }
   ],
   "source": [
    "d=cone(4,3)\n",
    "print('volume',d.vol())\n",
    "print(\"base area,side area\",d.area())"
   ]
  }
 ],
 "metadata": {
  "kernelspec": {
   "display_name": "Python 3",
   "language": "python",
   "name": "python3"
  },
  "language_info": {
   "codemirror_mode": {
    "name": "ipython",
    "version": 3
   },
   "file_extension": ".py",
   "mimetype": "text/x-python",
   "name": "python",
   "nbconvert_exporter": "python",
   "pygments_lexer": "ipython3",
   "version": "3.7.6"
  }
 },
 "nbformat": 4,
 "nbformat_minor": 4
}
